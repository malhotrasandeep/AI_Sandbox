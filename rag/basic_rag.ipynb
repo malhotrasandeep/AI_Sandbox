{
 "cells": [
  {
   "cell_type": "markdown",
   "metadata": {},
   "source": [
    "This notebook implements basic RAG functionality. The notebook tries to get the answer for the question \"Who won the last cricket world cup and in which year?\" from the LLM 'gpt-3.5-turbo'. Since the model was trained on 2021 data, it responds with an outdated answer. Then it pulls the contents of page https://en.wikipedia.org/wiki/2023_Cricket_World_Cup and stores the same in the knowledgebase. Then it uses RAG to answer the same question and gets the correct answer.\n",
    "\n",
    "The notebook makes use of OpenAI APIs, LangChain and Chroma DB.\n",
    "\n",
    "Please use your OpenAI_API key in cell 1."
   ]
  },
  {
   "cell_type": "code",
   "execution_count": null,
   "metadata": {},
   "outputs": [],
   "source": [
    "#set the OPENAI_API_KEY environment variable\n",
    "import os\n",
    "os.environ['OPENAI_API_KEY']=\"<ADD YOUR KEY HERE>\""
   ]
  },
  {
   "cell_type": "code",
   "execution_count": 2,
   "metadata": {},
   "outputs": [
    {
     "name": "stderr",
     "output_type": "stream",
     "text": [
      "USER_AGENT environment variable not set, consider setting it to identify your requests.\n"
     ]
    }
   ],
   "source": [
    "#use langchain webloader to load the page https://en.wikipedia.org/wiki/2023_Cricket_World_Cup\n",
    "\n",
    "from langchain_community.document_loaders import WebBaseLoader\n",
    "\n",
    "loader = WebBaseLoader(\n",
    "    web_paths=(\"https://en.wikipedia.org/wiki/2023_Cricket_World_Cup\",),\n",
    ")\n",
    "\n",
    "docs=loader.load()\n",
    "#docs"
   ]
  },
  {
   "cell_type": "code",
   "execution_count": 3,
   "metadata": {},
   "outputs": [],
   "source": [
    "#split the docs\n",
    "from langchain_text_splitters import RecursiveCharacterTextSplitter\n",
    "text_splitter = RecursiveCharacterTextSplitter(chunk_size=1000, chunk_overlap=20)\n",
    "split_docs = text_splitter.split_documents(docs)\n",
    "# split_docs"
   ]
  },
  {
   "cell_type": "code",
   "execution_count": 4,
   "metadata": {},
   "outputs": [],
   "source": [
    "#get the embedding\n",
    "from langchain_openai.embeddings import OpenAIEmbeddings\n",
    "embedding = OpenAIEmbeddings()\n",
    "\n",
    "\n",
    "#store in vector store\n",
    "from langchain_chroma import Chroma\n",
    "db = Chroma.from_documents(split_docs, embedding)\n",
    "\n",
    "#create a retriever\n",
    "retriever = db.as_retriever()"
   ]
  },
  {
   "cell_type": "code",
   "execution_count": 5,
   "metadata": {},
   "outputs": [],
   "source": [
    "#create a prompt template\n",
    "from langchain_core.prompts import ChatPromptTemplate\n",
    "prompt = ChatPromptTemplate.from_template(\"\"\"\n",
    "                                          Answer the question based on the context:\n",
    "                                          {context}\n",
    "                                          \n",
    "                                          Question: {question}\"\"\")"
   ]
  },
  {
   "cell_type": "code",
   "execution_count": 6,
   "metadata": {},
   "outputs": [],
   "source": [
    "#create the model\n",
    "from langchain_openai.chat_models import ChatOpenAI\n",
    "model = ChatOpenAI(model=\"gpt-3.5-turbo\")"
   ]
  },
  {
   "cell_type": "code",
   "execution_count": 7,
   "metadata": {},
   "outputs": [],
   "source": [
    "question = 'Who won the last cricker world cup and in which year?\"?'"
   ]
  },
  {
   "cell_type": "code",
   "execution_count": 8,
   "metadata": {},
   "outputs": [
    {
     "data": {
      "text/plain": [
       "'The last Cricket World Cup was won by England in 2019.'"
      ]
     },
     "execution_count": 8,
     "metadata": {},
     "output_type": "execute_result"
    }
   ],
   "source": [
    "#call the model without RAG\n",
    "response = model.invoke(question)\n",
    "response.content"
   ]
  },
  {
   "cell_type": "markdown",
   "metadata": {},
   "source": [
    "As you can see the LLM is giving an outdated response"
   ]
  },
  {
   "cell_type": "code",
   "execution_count": 11,
   "metadata": {},
   "outputs": [],
   "source": [
    "#create a chain\n",
    "chain = prompt | model"
   ]
  },
  {
   "cell_type": "code",
   "execution_count": 12,
   "metadata": {},
   "outputs": [],
   "source": [
    "#get the context details\n",
    "retrieved_content = retriever.invoke(question)"
   ]
  },
  {
   "cell_type": "code",
   "execution_count": 13,
   "metadata": {},
   "outputs": [
    {
     "data": {
      "text/plain": [
       "'Australia won the last Cricket World Cup in 2023.'"
      ]
     },
     "execution_count": 13,
     "metadata": {},
     "output_type": "execute_result"
    }
   ],
   "source": [
    "#invoke using RAG with the same question\n",
    "response = chain.invoke({'context':retrieved_content,\n",
    "              'question':question})\n",
    "response.content"
   ]
  }
 ],
 "metadata": {
  "kernelspec": {
   "display_name": "Python 3",
   "language": "python",
   "name": "python3"
  },
  "language_info": {
   "codemirror_mode": {
    "name": "ipython",
    "version": 3
   },
   "file_extension": ".py",
   "mimetype": "text/x-python",
   "name": "python",
   "nbconvert_exporter": "python",
   "pygments_lexer": "ipython3",
   "version": "3.12.0"
  }
 },
 "nbformat": 4,
 "nbformat_minor": 2
}
