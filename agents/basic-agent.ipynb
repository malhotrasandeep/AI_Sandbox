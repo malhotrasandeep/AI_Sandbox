{
 "cells": [
  {
   "cell_type": "code",
   "execution_count": 1,
   "metadata": {},
   "outputs": [],
   "source": [
    "from langgraph.graph import START, END, StateGraph\n",
    "from langgraph.prebuilt import ToolNode, tools_condition\n",
    "from langchain_core.messages import HumanMessage\n",
    "from langgraph.graph.message import MessagesState\n",
    "from langchain_openai import ChatOpenAI\n",
    "from langchain_core.messages import HumanMessage\n",
    "from pprint import pprint\n",
    "\n",
    "from IPython.display import display, Image"
   ]
  },
  {
   "cell_type": "code",
   "execution_count": 2,
   "metadata": {},
   "outputs": [],
   "source": [
    "import os\n",
    "os.environ['OPENAI_API_KEY'] = \"<YOUR OPENAI API KEY HERE\"\n",
    "\n",
    "from tavily import TavilyClient\n",
    "# Initialize the Tavily client\n",
    "tavily = TavilyClient(api_key=\"<YOUR TAVILY API KEY HERE\")"
   ]
  },
  {
   "cell_type": "code",
   "execution_count": 3,
   "metadata": {},
   "outputs": [],
   "source": [
    "def subtract(a, b):\n",
    "    '''\n",
    "    this function will subtract the second no. from first no. and return the result\n",
    "    '''\n",
    "    return a - b\n",
    "\n",
    "#define tools\n",
    "tools = [subtract, tavily.search]"
   ]
  },
  {
   "cell_type": "code",
   "execution_count": 4,
   "metadata": {},
   "outputs": [],
   "source": [
    "#create the model\n",
    "model = ChatOpenAI(model = 'gpt-3.5-turbo')\n",
    "\n",
    "#bind the tools with the model\n",
    "llm_with_tools = model.bind_tools(tools)"
   ]
  },
  {
   "cell_type": "code",
   "execution_count": 5,
   "metadata": {},
   "outputs": [],
   "source": [
    "#create the llm node\n",
    "def llm_node(state:MessagesState):\n",
    "    return {'messages':[llm_with_tools.invoke(state['messages'])]}"
   ]
  },
  {
   "cell_type": "code",
   "execution_count": 6,
   "metadata": {},
   "outputs": [
    {
     "data": {
      "image/png": "[encoded data removed]",
      "text/plain": [
       "<IPython.core.display.Image object>"
      ]
     },
     "metadata": {},
     "output_type": "display_data"
    }
   ],
   "source": [
    "#create graph\n",
    "builder = StateGraph(MessagesState)\n",
    "builder.add_node('llm_node',llm_node)\n",
    "builder.add_node('tools',ToolNode(tools))\n",
    "\n",
    "builder.add_edge(START,'llm_node')\n",
    "builder.add_conditional_edges('llm_node',tools_condition)\n",
    "builder.add_edge('tools','llm_node')\n",
    "\n",
    "graph = builder.compile()\n",
    "\n",
    "display(Image(graph.get_graph().draw_mermaid_png()))"
   ]
  },
  {
   "cell_type": "code",
   "execution_count": 9,
   "metadata": {},
   "outputs": [
    {
     "name": "stdout",
     "output_type": "stream",
     "text": [
      "================================\u001b[1m Human Message \u001b[0m=================================\n",
      "\n",
      "Who had a higher batting average in test cricket - Sachin Tendulkar or Brian Lara?\n",
      "==================================\u001b[1m Ai Message \u001b[0m==================================\n",
      "Tool Calls:\n",
      "  search (call_wEk4vCyYIyMmvzloVSg1Jyk6)\n",
      " Call ID: call_wEk4vCyYIyMmvzloVSg1Jyk6\n",
      "  Args:\n",
      "    query: Sachin Tendulkar test cricket batting average\n",
      "    max_results: 1\n",
      "=================================\u001b[1m Tool Message \u001b[0m=================================\n",
      "Name: search\n",
      "\n",
      "{\"query\": \"Sachin Tendulkar test cricket batting average\", \"follow_up_questions\": null, \"answer\": null, \"images\": [], \"results\": [{\"title\": \"Sachin Tendulkar | Detailed Test Batting Stats - Stat Sensei\", \"url\": \"https://statsensei.com/sachin-tendulkar-test-stats/\", \"content\": \"Analysis of the Sachin Tendulkar's test batting statistics including his runs, ave, SR, top scores, record away from home, at home, outside Asia and in Asia. Skip to content. Menu. Menu. Home; All Time. ... Relative Average : 51.59: 17: Top 25 In R Ave: Strike Rate(SR) 54.06: NI 50: Top 25 In SR: Relative SR : 54.47: NI 50: Top 25 In R SR: Big\", \"score\": 0.85538095, \"raw_content\": null}], \"response_time\": 1.78}\n",
      "==================================\u001b[1m Ai Message \u001b[0m==================================\n",
      "Tool Calls:\n",
      "  search (call_fYYyuly4ksTFUMUHzpLSTgDV)\n",
      " Call ID: call_fYYyuly4ksTFUMUHzpLSTgDV\n",
      "  Args:\n",
      "    query: Brian Lara test cricket batting average\n",
      "    max_results: 1\n",
      "=================================\u001b[1m Tool Message \u001b[0m=================================\n",
      "Name: search\n",
      "\n",
      "{\"query\": \"Brian Lara test cricket batting average\", \"follow_up_questions\": null, \"answer\": null, \"images\": [], \"results\": [{\"title\": \"Brian Lara | Detailed Test Batting Stats - Stat Sensei\", \"url\": \"https://statsensei.com/brian-lara-test-stats/\", \"content\": \"Analysis of the Brian Lara's test batting statistics including his runs, average, strike rate, top scores, record away from home, at home, outside Asia and in Asia. Skip to content. Menu. Menu. Home; ... Average : 52.89: 9: Top 25 In Ave: Relative Average : 52.28: 12: Top 25 In R Ave: Strike Rate(SR) 60.51: 24: Top 25 In SR: Relative SR : 62.14\", \"score\": 0.91175514, \"raw_content\": null}], \"response_time\": 1.44}\n",
      "==================================\u001b[1m Ai Message \u001b[0m==================================\n",
      "\n",
      "Brian Lara had a higher batting average in test cricket compared to Sachin Tendulkar. Brian Lara's test cricket batting average is 52.89, while Sachin Tendulkar's test cricket batting average is 51.59.\n"
     ]
    }
   ],
   "source": [
    "messages = [HumanMessage(content=\"Who had a higher batting average in test cricket - Sachin Tendulkar or Brian Lara?\")]\n",
    "messages = graph.invoke({\"messages\": messages})\n",
    "\n",
    "from pprint import pprint\n",
    "for m in messages['messages']:\n",
    "    m.pretty_print()"
   ]
  },
  {
   "cell_type": "code",
   "execution_count": null,
   "metadata": {},
   "outputs": [],
   "source": []
  }
 ],
 "metadata": {
  "kernelspec": {
   "display_name": "lc-academy-env",
   "language": "python",
   "name": "python3"
  },
  "language_info": {
   "codemirror_mode": {
    "name": "ipython",
    "version": 3
   },
   "file_extension": ".py",
   "mimetype": "text/x-python",
   "name": "python",
   "nbconvert_exporter": "python",
   "pygments_lexer": "ipython3",
   "version": "3.12.7"
  }
 },
 "nbformat": 4,
 "nbformat_minor": 2
}
